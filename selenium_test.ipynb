{
 "cells": [
  {
   "cell_type": "code",
   "execution_count": 1,
   "id": "4e6528f5",
   "metadata": {},
   "outputs": [
    {
     "ename": "TimeoutException",
     "evalue": "Message: timeout: Timed out receiving message from renderer: 299.667\n  (Session info: chrome=119.0.6045.105)\nStacktrace:\n0   chromedriver                        0x0000000100dca004 chromedriver + 4169732\n1   chromedriver                        0x0000000100dc1ff8 chromedriver + 4136952\n2   chromedriver                        0x0000000100a17500 chromedriver + 292096\n3   chromedriver                        0x00000001009ffa88 chromedriver + 195208\n4   chromedriver                        0x00000001009ff97c chromedriver + 194940\n5   chromedriver                        0x00000001009fdef4 chromedriver + 188148\n6   chromedriver                        0x00000001009feb14 chromedriver + 191252\n7   chromedriver                        0x0000000100a0dc80 chromedriver + 253056\n8   chromedriver                        0x0000000100a22a3c chromedriver + 338492\n9   chromedriver                        0x00000001009ff26c chromedriver + 193132\n10  chromedriver                        0x0000000100a22858 chromedriver + 338008\n11  chromedriver                        0x0000000100a97870 chromedriver + 817264\n12  chromedriver                        0x0000000100a505e8 chromedriver + 525800\n13  chromedriver                        0x0000000100a514b8 chromedriver + 529592\n14  chromedriver                        0x0000000100d90334 chromedriver + 3932980\n15  chromedriver                        0x0000000100d94970 chromedriver + 3950960\n16  chromedriver                        0x0000000100d78774 chromedriver + 3835764\n17  chromedriver                        0x0000000100d95478 chromedriver + 3953784\n18  chromedriver                        0x0000000100d6aab4 chromedriver + 3779252\n19  chromedriver                        0x0000000100db1914 chromedriver + 4069652\n20  chromedriver                        0x0000000100db1a90 chromedriver + 4070032\n21  chromedriver                        0x0000000100dc1c70 chromedriver + 4136048\n22  libsystem_pthread.dylib             0x000000018ff7b034 _pthread_start + 136\n23  libsystem_pthread.dylib             0x000000018ff75e3c thread_start + 8\n",
     "output_type": "error",
     "traceback": [
      "\u001b[0;31m---------------------------------------------------------------------------\u001b[0m",
      "\u001b[0;31mTimeoutException\u001b[0m                          Traceback (most recent call last)",
      "Cell \u001b[0;32mIn[1], line 8\u001b[0m\n\u001b[1;32m      6\u001b[0m browser \u001b[38;5;241m=\u001b[39m webdriver\u001b[38;5;241m.\u001b[39mChrome()\n\u001b[1;32m      7\u001b[0m \u001b[38;5;66;03m# go to the tourney page\u001b[39;00m\n\u001b[0;32m----> 8\u001b[0m \u001b[43mbrowser\u001b[49m\u001b[38;5;241;43m.\u001b[39;49m\u001b[43mget\u001b[49m\u001b[43m(\u001b[49m\u001b[38;5;124;43m'\u001b[39;49m\u001b[38;5;124;43mhttps://www.sports-reference.com/cbb/postseason/men/2023-ncaa.html\u001b[39;49m\u001b[38;5;124;43m'\u001b[39;49m\u001b[43m)\u001b[49m\n",
      "File \u001b[0;32m~/anaconda3/lib/python3.10/site-packages/selenium/webdriver/remote/webdriver.py:353\u001b[0m, in \u001b[0;36mWebDriver.get\u001b[0;34m(self, url)\u001b[0m\n\u001b[1;32m    351\u001b[0m \u001b[38;5;28;01mdef\u001b[39;00m \u001b[38;5;21mget\u001b[39m(\u001b[38;5;28mself\u001b[39m, url: \u001b[38;5;28mstr\u001b[39m) \u001b[38;5;241m-\u001b[39m\u001b[38;5;241m>\u001b[39m \u001b[38;5;28;01mNone\u001b[39;00m:\n\u001b[1;32m    352\u001b[0m     \u001b[38;5;124;03m\"\"\"Loads a web page in the current browser session.\"\"\"\u001b[39;00m\n\u001b[0;32m--> 353\u001b[0m     \u001b[38;5;28;43mself\u001b[39;49m\u001b[38;5;241;43m.\u001b[39;49m\u001b[43mexecute\u001b[49m\u001b[43m(\u001b[49m\u001b[43mCommand\u001b[49m\u001b[38;5;241;43m.\u001b[39;49m\u001b[43mGET\u001b[49m\u001b[43m,\u001b[49m\u001b[43m \u001b[49m\u001b[43m{\u001b[49m\u001b[38;5;124;43m\"\u001b[39;49m\u001b[38;5;124;43murl\u001b[39;49m\u001b[38;5;124;43m\"\u001b[39;49m\u001b[43m:\u001b[49m\u001b[43m \u001b[49m\u001b[43murl\u001b[49m\u001b[43m}\u001b[49m\u001b[43m)\u001b[49m\n",
      "File \u001b[0;32m~/anaconda3/lib/python3.10/site-packages/selenium/webdriver/remote/webdriver.py:344\u001b[0m, in \u001b[0;36mWebDriver.execute\u001b[0;34m(self, driver_command, params)\u001b[0m\n\u001b[1;32m    342\u001b[0m response \u001b[38;5;241m=\u001b[39m \u001b[38;5;28mself\u001b[39m\u001b[38;5;241m.\u001b[39mcommand_executor\u001b[38;5;241m.\u001b[39mexecute(driver_command, params)\n\u001b[1;32m    343\u001b[0m \u001b[38;5;28;01mif\u001b[39;00m response:\n\u001b[0;32m--> 344\u001b[0m     \u001b[38;5;28;43mself\u001b[39;49m\u001b[38;5;241;43m.\u001b[39;49m\u001b[43merror_handler\u001b[49m\u001b[38;5;241;43m.\u001b[39;49m\u001b[43mcheck_response\u001b[49m\u001b[43m(\u001b[49m\u001b[43mresponse\u001b[49m\u001b[43m)\u001b[49m\n\u001b[1;32m    345\u001b[0m     response[\u001b[38;5;124m\"\u001b[39m\u001b[38;5;124mvalue\u001b[39m\u001b[38;5;124m\"\u001b[39m] \u001b[38;5;241m=\u001b[39m \u001b[38;5;28mself\u001b[39m\u001b[38;5;241m.\u001b[39m_unwrap_value(response\u001b[38;5;241m.\u001b[39mget(\u001b[38;5;124m\"\u001b[39m\u001b[38;5;124mvalue\u001b[39m\u001b[38;5;124m\"\u001b[39m, \u001b[38;5;28;01mNone\u001b[39;00m))\n\u001b[1;32m    346\u001b[0m     \u001b[38;5;28;01mreturn\u001b[39;00m response\n",
      "File \u001b[0;32m~/anaconda3/lib/python3.10/site-packages/selenium/webdriver/remote/errorhandler.py:229\u001b[0m, in \u001b[0;36mErrorHandler.check_response\u001b[0;34m(self, response)\u001b[0m\n\u001b[1;32m    227\u001b[0m         alert_text \u001b[38;5;241m=\u001b[39m value[\u001b[38;5;124m\"\u001b[39m\u001b[38;5;124malert\u001b[39m\u001b[38;5;124m\"\u001b[39m]\u001b[38;5;241m.\u001b[39mget(\u001b[38;5;124m\"\u001b[39m\u001b[38;5;124mtext\u001b[39m\u001b[38;5;124m\"\u001b[39m)\n\u001b[1;32m    228\u001b[0m     \u001b[38;5;28;01mraise\u001b[39;00m exception_class(message, screen, stacktrace, alert_text)  \u001b[38;5;66;03m# type: ignore[call-arg]  # mypy is not smart enough here\u001b[39;00m\n\u001b[0;32m--> 229\u001b[0m \u001b[38;5;28;01mraise\u001b[39;00m exception_class(message, screen, stacktrace)\n",
      "\u001b[0;31mTimeoutException\u001b[0m: Message: timeout: Timed out receiving message from renderer: 299.667\n  (Session info: chrome=119.0.6045.105)\nStacktrace:\n0   chromedriver                        0x0000000100dca004 chromedriver + 4169732\n1   chromedriver                        0x0000000100dc1ff8 chromedriver + 4136952\n2   chromedriver                        0x0000000100a17500 chromedriver + 292096\n3   chromedriver                        0x00000001009ffa88 chromedriver + 195208\n4   chromedriver                        0x00000001009ff97c chromedriver + 194940\n5   chromedriver                        0x00000001009fdef4 chromedriver + 188148\n6   chromedriver                        0x00000001009feb14 chromedriver + 191252\n7   chromedriver                        0x0000000100a0dc80 chromedriver + 253056\n8   chromedriver                        0x0000000100a22a3c chromedriver + 338492\n9   chromedriver                        0x00000001009ff26c chromedriver + 193132\n10  chromedriver                        0x0000000100a22858 chromedriver + 338008\n11  chromedriver                        0x0000000100a97870 chromedriver + 817264\n12  chromedriver                        0x0000000100a505e8 chromedriver + 525800\n13  chromedriver                        0x0000000100a514b8 chromedriver + 529592\n14  chromedriver                        0x0000000100d90334 chromedriver + 3932980\n15  chromedriver                        0x0000000100d94970 chromedriver + 3950960\n16  chromedriver                        0x0000000100d78774 chromedriver + 3835764\n17  chromedriver                        0x0000000100d95478 chromedriver + 3953784\n18  chromedriver                        0x0000000100d6aab4 chromedriver + 3779252\n19  chromedriver                        0x0000000100db1914 chromedriver + 4069652\n20  chromedriver                        0x0000000100db1a90 chromedriver + 4070032\n21  chromedriver                        0x0000000100dc1c70 chromedriver + 4136048\n22  libsystem_pthread.dylib             0x000000018ff7b034 _pthread_start + 136\n23  libsystem_pthread.dylib             0x000000018ff75e3c thread_start + 8\n"
     ]
    }
   ],
   "source": [
    "import pandas as pd\n",
    "from selenium import webdriver\n",
    "from selenium.webdriver.common.by import By\n",
    "from selenium.webdriver.common.action_chains import ActionChains\n",
    "\n",
    "browser = webdriver.Chrome()\n",
    "# go to the tourney page\n",
    "browser.get('https://www.sports-reference.com/cbb/postseason/men/2023-ncaa.html')"
   ]
  },
  {
   "cell_type": "code",
   "execution_count": null,
   "id": "befede34",
   "metadata": {},
   "outputs": [],
   "source": [
    "seeding = []\n",
    "teamname = []"
   ]
  },
  {
   "cell_type": "code",
   "execution_count": null,
   "id": "91633b19",
   "metadata": {},
   "outputs": [],
   "source": [
    "region = ['East']*16 + ['Midwest']*16 + ['South']*16 +['West']*16"
   ]
  },
  {
   "cell_type": "code",
   "execution_count": null,
   "id": "6f0a7b2c",
   "metadata": {},
   "outputs": [],
   "source": [
    "browser.execute_script(\"window.scrollTo(0,500)\")"
   ]
  },
  {
   "cell_type": "code",
   "execution_count": null,
   "id": "31b1be8f",
   "metadata": {},
   "outputs": [],
   "source": [
    "#element = browser.find_element(By.XPATH, '/html/body/div[2]/div[5]/div[2]/div[1]/a')"
   ]
  },
  {
   "cell_type": "code",
   "execution_count": null,
   "id": "b8565fc6",
   "metadata": {},
   "outputs": [],
   "source": [
    "#browser.execute_script(\"arguments[0].scrollIntoView(true);\", element)"
   ]
  },
  {
   "cell_type": "code",
   "execution_count": null,
   "id": "835de758",
   "metadata": {},
   "outputs": [],
   "source": [
    "for j in range(1,5):\n",
    "    # select the region by xpath, doesnt change from year to year\n",
    "    button = browser.find_element(By.XPATH, '/html/body/div[2]/div[5]/div[2]/div['+str(j)+']/a')\n",
    "    button.click()\n",
    "    #ActionChains(browser).move_to_element(button).click(button).perform()\n",
    "    for i in range(1,9):\n",
    "        # find team and seeding\n",
    "        hseed = browser.find_element(By.XPATH, '/html/body/div[2]/div[5]/div[3]/div['+str(j)+']/div/div[1]/div['+str(i)+']/div[1]/span').text\n",
    "        hteam = browser.find_element(By.XPATH, '/html/body/div[2]/div[5]/div[3]/div['+str(j)+']/div/div[1]/div['+str(i)+']/div[1]/a[1]').text\n",
    "        lseed = browser.find_element(By.XPATH, '/html/body/div[2]/div[5]/div[3]/div['+str(j)+']/div/div[1]/div['+str(i)+']/div[2]/span').text\n",
    "        lteam = browser.find_element(By.XPATH, '/html/body/div[2]/div[5]/div[3]/div['+str(j)+']/div/div[1]/div['+str(i)+']/div[2]/a[1]').text\n",
    "\n",
    "        seeding.append(hseed)\n",
    "        teamname.append(hteam)\n",
    "        seeding.append(lseed)\n",
    "        teamname.append(lteam)"
   ]
  },
  {
   "cell_type": "code",
   "execution_count": null,
   "id": "f75c8ac3",
   "metadata": {},
   "outputs": [],
   "source": [
    "data = {'region':region, 'seeding':seeding, 'team_name':teamname}\n",
    "# dataframe of all teams with seedings and regions\n",
    "teams_df = pd.DataFrame(data=data)"
   ]
  },
  {
   "cell_type": "code",
   "execution_count": null,
   "id": "814d48d8",
   "metadata": {},
   "outputs": [],
   "source": [
    "browser.find_element(By.XPATH, '/html/body/div[2]/div[5]/div[3]/div[4]/div/div[1]/div[1]/div[1]/a[1]').click()"
   ]
  },
  {
   "cell_type": "code",
   "execution_count": null,
   "id": "8e95f952",
   "metadata": {},
   "outputs": [],
   "source": [
    "s"
   ]
  },
  {
   "cell_type": "code",
   "execution_count": null,
   "id": "9ec9e925",
   "metadata": {},
   "outputs": [],
   "source": [
    "j = 1\n",
    "while j < 5:\n",
    "    # select the region by xpath, doesnt change from year to year\n",
    "    if j!=1:\n",
    "        browser.find_element(By.XPATH, '/html/body/div[2]/div[5]/div[2]/div['+str(j)+']/a').click()\n",
    "    for i in range(1,9):\n",
    "        # find team and seeding\n",
    "        hseed = browser.find_element(By.XPATH, '/html/body/div[2]/div[5]/div[3]/div['+str(j)+']/div/div[1]/div['+str(i)+']/div[1]/span').text\n",
    "        hteam = browser.find_element(By.XPATH, '/html/body/div[2]/div[5]/div[3]/div['+str(j)+']/div/div[1]/div['+str(i)+']/div[1]/a[1]').text\n",
    "        lseed = browser.find_element(By.XPATH, '/html/body/div[2]/div[5]/div[3]/div['+str(j)+']/div/div[1]/div['+str(i)+']/div[2]/span').text\n",
    "        lteam = browser.find_element(By.XPATH, '/html/body/div[2]/div[5]/div[3]/div['+str(j)+']/div/div[1]/div['+str(i)+']/div[2]/a[1]').text\n",
    "\n",
    "        seeding.append(hseed)\n",
    "        teamname.append(hteam)\n",
    "        seeding.append(lseed)\n",
    "        teamname.append(lteam)\n",
    "    j = j+1\n",
    "    print(j)"
   ]
  }
 ],
 "metadata": {
  "kernelspec": {
   "display_name": "Python 3 (ipykernel)",
   "language": "python",
   "name": "python3"
  },
  "language_info": {
   "codemirror_mode": {
    "name": "ipython",
    "version": 3
   },
   "file_extension": ".py",
   "mimetype": "text/x-python",
   "name": "python",
   "nbconvert_exporter": "python",
   "pygments_lexer": "ipython3",
   "version": "3.10.9"
  }
 },
 "nbformat": 4,
 "nbformat_minor": 5
}
